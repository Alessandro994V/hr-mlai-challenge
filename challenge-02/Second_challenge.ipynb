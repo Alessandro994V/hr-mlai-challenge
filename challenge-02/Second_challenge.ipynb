{
 "cells": [
  {
   "cell_type": "code",
   "execution_count": 1,
   "id": "167c0644",
   "metadata": {},
   "outputs": [],
   "source": [
    "import numpy as np\n",
    "import pandas as pd\n",
    "import os\n",
    "%matplotlib inline\n",
    "import matplotlib.pyplot as plt\n",
    "from sklearn.model_selection import StratifiedShuffleSplit\n",
    "from sklearn.model_selection import train_test_split"
   ]
  },
  {
   "cell_type": "markdown",
   "id": "5386ae74",
   "metadata": {
    "tags": []
   },
   "source": [
    "# Get the data and Clean"
   ]
  },
  {
   "cell_type": "code",
   "execution_count": 2,
   "id": "10ddc114",
   "metadata": {},
   "outputs": [],
   "source": [
    "# The delimiter is `;`, so we need to rearrange the data into columns\n",
    "\n",
    "input_file = 'dataset.csv'\n",
    "\n",
    "\n",
    "# Load data\n",
    "\n",
    "output_file = 'path_to_cleaned.csv'\n",
    "\n",
    "# Read the csv into a DataFrame\n",
    "df = pd.read_csv(input_file, sep=';')\n",
    "\n",
    "# Save the DataFrame to a new CSV file with proper columns\n",
    "df.to_csv(output_file, index=False)\n",
    "\n",
    "\n",
    "def load_data(*args):\n",
    "    return pd.read_csv(output_file)"
   ]
  },
  {
   "cell_type": "code",
   "execution_count": 3,
   "id": "10f92eb4",
   "metadata": {},
   "outputs": [
    {
     "data": {
      "text/html": [
       "<div>\n",
       "<style scoped>\n",
       "    .dataframe tbody tr th:only-of-type {\n",
       "        vertical-align: middle;\n",
       "    }\n",
       "\n",
       "    .dataframe tbody tr th {\n",
       "        vertical-align: top;\n",
       "    }\n",
       "\n",
       "    .dataframe thead th {\n",
       "        text-align: right;\n",
       "    }\n",
       "</style>\n",
       "<table border=\"1\" class=\"dataframe\">\n",
       "  <thead>\n",
       "    <tr style=\"text-align: right;\">\n",
       "      <th></th>\n",
       "      <th>Orario</th>\n",
       "      <th>Umidità dell'aria (%)</th>\n",
       "      <th>Pressione (mPa)</th>\n",
       "      <th>Temperatura dell'aria (°C)</th>\n",
       "      <th>Punto di rugiada (°C)</th>\n",
       "      <th>Direzione del vento (°)</th>\n",
       "      <th>Velocità media del vento (km/h)</th>\n",
       "      <th>Batteria (V)</th>\n",
       "      <th>Fotocamera</th>\n",
       "      <th>Tipo di device</th>\n",
       "      <th>...</th>\n",
       "      <th>Temperatura suolo 5 (°C)</th>\n",
       "      <th>Temperatura suolo 6 (°C)</th>\n",
       "      <th>Temperatura suolo 7 (°C)</th>\n",
       "      <th>Temperatura suolo 8 (°C)</th>\n",
       "      <th>Temperatura suolo 9 (°C)</th>\n",
       "      <th>vpd</th>\n",
       "      <th>Umidità fogliare 1 (min)</th>\n",
       "      <th>Umidità fogliare 2 (min)</th>\n",
       "      <th>ID Sensore</th>\n",
       "      <th>Descrizione</th>\n",
       "    </tr>\n",
       "  </thead>\n",
       "  <tbody>\n",
       "    <tr>\n",
       "      <th>count</th>\n",
       "      <td>8734</td>\n",
       "      <td>0.0</td>\n",
       "      <td>0.0</td>\n",
       "      <td>0.0</td>\n",
       "      <td>0.0</td>\n",
       "      <td>0.0</td>\n",
       "      <td>0.0</td>\n",
       "      <td>8734.000000</td>\n",
       "      <td>0.0</td>\n",
       "      <td>0.0</td>\n",
       "      <td>...</td>\n",
       "      <td>0.0</td>\n",
       "      <td>0.0</td>\n",
       "      <td>0.0</td>\n",
       "      <td>0.0</td>\n",
       "      <td>0.0</td>\n",
       "      <td>0.0</td>\n",
       "      <td>0.0</td>\n",
       "      <td>8734.0</td>\n",
       "      <td>8734</td>\n",
       "      <td>8734</td>\n",
       "    </tr>\n",
       "    <tr>\n",
       "      <th>unique</th>\n",
       "      <td>8734</td>\n",
       "      <td>NaN</td>\n",
       "      <td>NaN</td>\n",
       "      <td>NaN</td>\n",
       "      <td>NaN</td>\n",
       "      <td>NaN</td>\n",
       "      <td>NaN</td>\n",
       "      <td>NaN</td>\n",
       "      <td>NaN</td>\n",
       "      <td>NaN</td>\n",
       "      <td>...</td>\n",
       "      <td>NaN</td>\n",
       "      <td>NaN</td>\n",
       "      <td>NaN</td>\n",
       "      <td>NaN</td>\n",
       "      <td>NaN</td>\n",
       "      <td>NaN</td>\n",
       "      <td>NaN</td>\n",
       "      <td>NaN</td>\n",
       "      <td>1</td>\n",
       "      <td>1</td>\n",
       "    </tr>\n",
       "    <tr>\n",
       "      <th>top</th>\n",
       "      <td>2023-07-27 09:00:</td>\n",
       "      <td>NaN</td>\n",
       "      <td>NaN</td>\n",
       "      <td>NaN</td>\n",
       "      <td>NaN</td>\n",
       "      <td>NaN</td>\n",
       "      <td>NaN</td>\n",
       "      <td>NaN</td>\n",
       "      <td>NaN</td>\n",
       "      <td>NaN</td>\n",
       "      <td>...</td>\n",
       "      <td>NaN</td>\n",
       "      <td>NaN</td>\n",
       "      <td>NaN</td>\n",
       "      <td>NaN</td>\n",
       "      <td>NaN</td>\n",
       "      <td>NaN</td>\n",
       "      <td>NaN</td>\n",
       "      <td>NaN</td>\n",
       "      <td>DE6008D81F7F6E25</td>\n",
       "      <td>Paulownia - xNode #1</td>\n",
       "    </tr>\n",
       "    <tr>\n",
       "      <th>freq</th>\n",
       "      <td>1</td>\n",
       "      <td>NaN</td>\n",
       "      <td>NaN</td>\n",
       "      <td>NaN</td>\n",
       "      <td>NaN</td>\n",
       "      <td>NaN</td>\n",
       "      <td>NaN</td>\n",
       "      <td>NaN</td>\n",
       "      <td>NaN</td>\n",
       "      <td>NaN</td>\n",
       "      <td>...</td>\n",
       "      <td>NaN</td>\n",
       "      <td>NaN</td>\n",
       "      <td>NaN</td>\n",
       "      <td>NaN</td>\n",
       "      <td>NaN</td>\n",
       "      <td>NaN</td>\n",
       "      <td>NaN</td>\n",
       "      <td>NaN</td>\n",
       "      <td>8734</td>\n",
       "      <td>8734</td>\n",
       "    </tr>\n",
       "    <tr>\n",
       "      <th>mean</th>\n",
       "      <td>NaN</td>\n",
       "      <td>NaN</td>\n",
       "      <td>NaN</td>\n",
       "      <td>NaN</td>\n",
       "      <td>NaN</td>\n",
       "      <td>NaN</td>\n",
       "      <td>NaN</td>\n",
       "      <td>4.203111</td>\n",
       "      <td>NaN</td>\n",
       "      <td>NaN</td>\n",
       "      <td>...</td>\n",
       "      <td>NaN</td>\n",
       "      <td>NaN</td>\n",
       "      <td>NaN</td>\n",
       "      <td>NaN</td>\n",
       "      <td>NaN</td>\n",
       "      <td>NaN</td>\n",
       "      <td>NaN</td>\n",
       "      <td>0.0</td>\n",
       "      <td>NaN</td>\n",
       "      <td>NaN</td>\n",
       "    </tr>\n",
       "    <tr>\n",
       "      <th>std</th>\n",
       "      <td>NaN</td>\n",
       "      <td>NaN</td>\n",
       "      <td>NaN</td>\n",
       "      <td>NaN</td>\n",
       "      <td>NaN</td>\n",
       "      <td>NaN</td>\n",
       "      <td>NaN</td>\n",
       "      <td>0.177829</td>\n",
       "      <td>NaN</td>\n",
       "      <td>NaN</td>\n",
       "      <td>...</td>\n",
       "      <td>NaN</td>\n",
       "      <td>NaN</td>\n",
       "      <td>NaN</td>\n",
       "      <td>NaN</td>\n",
       "      <td>NaN</td>\n",
       "      <td>NaN</td>\n",
       "      <td>NaN</td>\n",
       "      <td>0.0</td>\n",
       "      <td>NaN</td>\n",
       "      <td>NaN</td>\n",
       "    </tr>\n",
       "    <tr>\n",
       "      <th>min</th>\n",
       "      <td>NaN</td>\n",
       "      <td>NaN</td>\n",
       "      <td>NaN</td>\n",
       "      <td>NaN</td>\n",
       "      <td>NaN</td>\n",
       "      <td>NaN</td>\n",
       "      <td>NaN</td>\n",
       "      <td>3.650000</td>\n",
       "      <td>NaN</td>\n",
       "      <td>NaN</td>\n",
       "      <td>...</td>\n",
       "      <td>NaN</td>\n",
       "      <td>NaN</td>\n",
       "      <td>NaN</td>\n",
       "      <td>NaN</td>\n",
       "      <td>NaN</td>\n",
       "      <td>NaN</td>\n",
       "      <td>NaN</td>\n",
       "      <td>0.0</td>\n",
       "      <td>NaN</td>\n",
       "      <td>NaN</td>\n",
       "    </tr>\n",
       "    <tr>\n",
       "      <th>25%</th>\n",
       "      <td>NaN</td>\n",
       "      <td>NaN</td>\n",
       "      <td>NaN</td>\n",
       "      <td>NaN</td>\n",
       "      <td>NaN</td>\n",
       "      <td>NaN</td>\n",
       "      <td>NaN</td>\n",
       "      <td>4.260000</td>\n",
       "      <td>NaN</td>\n",
       "      <td>NaN</td>\n",
       "      <td>...</td>\n",
       "      <td>NaN</td>\n",
       "      <td>NaN</td>\n",
       "      <td>NaN</td>\n",
       "      <td>NaN</td>\n",
       "      <td>NaN</td>\n",
       "      <td>NaN</td>\n",
       "      <td>NaN</td>\n",
       "      <td>0.0</td>\n",
       "      <td>NaN</td>\n",
       "      <td>NaN</td>\n",
       "    </tr>\n",
       "    <tr>\n",
       "      <th>50%</th>\n",
       "      <td>NaN</td>\n",
       "      <td>NaN</td>\n",
       "      <td>NaN</td>\n",
       "      <td>NaN</td>\n",
       "      <td>NaN</td>\n",
       "      <td>NaN</td>\n",
       "      <td>NaN</td>\n",
       "      <td>4.270000</td>\n",
       "      <td>NaN</td>\n",
       "      <td>NaN</td>\n",
       "      <td>...</td>\n",
       "      <td>NaN</td>\n",
       "      <td>NaN</td>\n",
       "      <td>NaN</td>\n",
       "      <td>NaN</td>\n",
       "      <td>NaN</td>\n",
       "      <td>NaN</td>\n",
       "      <td>NaN</td>\n",
       "      <td>0.0</td>\n",
       "      <td>NaN</td>\n",
       "      <td>NaN</td>\n",
       "    </tr>\n",
       "    <tr>\n",
       "      <th>75%</th>\n",
       "      <td>NaN</td>\n",
       "      <td>NaN</td>\n",
       "      <td>NaN</td>\n",
       "      <td>NaN</td>\n",
       "      <td>NaN</td>\n",
       "      <td>NaN</td>\n",
       "      <td>NaN</td>\n",
       "      <td>4.270000</td>\n",
       "      <td>NaN</td>\n",
       "      <td>NaN</td>\n",
       "      <td>...</td>\n",
       "      <td>NaN</td>\n",
       "      <td>NaN</td>\n",
       "      <td>NaN</td>\n",
       "      <td>NaN</td>\n",
       "      <td>NaN</td>\n",
       "      <td>NaN</td>\n",
       "      <td>NaN</td>\n",
       "      <td>0.0</td>\n",
       "      <td>NaN</td>\n",
       "      <td>NaN</td>\n",
       "    </tr>\n",
       "    <tr>\n",
       "      <th>max</th>\n",
       "      <td>NaN</td>\n",
       "      <td>NaN</td>\n",
       "      <td>NaN</td>\n",
       "      <td>NaN</td>\n",
       "      <td>NaN</td>\n",
       "      <td>NaN</td>\n",
       "      <td>NaN</td>\n",
       "      <td>4.270000</td>\n",
       "      <td>NaN</td>\n",
       "      <td>NaN</td>\n",
       "      <td>...</td>\n",
       "      <td>NaN</td>\n",
       "      <td>NaN</td>\n",
       "      <td>NaN</td>\n",
       "      <td>NaN</td>\n",
       "      <td>NaN</td>\n",
       "      <td>NaN</td>\n",
       "      <td>NaN</td>\n",
       "      <td>0.0</td>\n",
       "      <td>NaN</td>\n",
       "      <td>NaN</td>\n",
       "    </tr>\n",
       "  </tbody>\n",
       "</table>\n",
       "<p>11 rows × 66 columns</p>\n",
       "</div>"
      ],
      "text/plain": [
       "                   Orario  Umidità dell'aria (%)  Pressione (mPa)  \\\n",
       "count                8734                    0.0              0.0   \n",
       "unique               8734                    NaN              NaN   \n",
       "top     2023-07-27 09:00:                    NaN              NaN   \n",
       "freq                    1                    NaN              NaN   \n",
       "mean                  NaN                    NaN              NaN   \n",
       "std                   NaN                    NaN              NaN   \n",
       "min                   NaN                    NaN              NaN   \n",
       "25%                   NaN                    NaN              NaN   \n",
       "50%                   NaN                    NaN              NaN   \n",
       "75%                   NaN                    NaN              NaN   \n",
       "max                   NaN                    NaN              NaN   \n",
       "\n",
       "        Temperatura dell'aria (°C)  Punto di rugiada (°C)  \\\n",
       "count                          0.0                    0.0   \n",
       "unique                         NaN                    NaN   \n",
       "top                            NaN                    NaN   \n",
       "freq                           NaN                    NaN   \n",
       "mean                           NaN                    NaN   \n",
       "std                            NaN                    NaN   \n",
       "min                            NaN                    NaN   \n",
       "25%                            NaN                    NaN   \n",
       "50%                            NaN                    NaN   \n",
       "75%                            NaN                    NaN   \n",
       "max                            NaN                    NaN   \n",
       "\n",
       "        Direzione del vento (°)  Velocità media del vento (km/h)  \\\n",
       "count                       0.0                              0.0   \n",
       "unique                      NaN                              NaN   \n",
       "top                         NaN                              NaN   \n",
       "freq                        NaN                              NaN   \n",
       "mean                        NaN                              NaN   \n",
       "std                         NaN                              NaN   \n",
       "min                         NaN                              NaN   \n",
       "25%                         NaN                              NaN   \n",
       "50%                         NaN                              NaN   \n",
       "75%                         NaN                              NaN   \n",
       "max                         NaN                              NaN   \n",
       "\n",
       "        Batteria (V)  Fotocamera  Tipo di device  ...  \\\n",
       "count    8734.000000         0.0             0.0  ...   \n",
       "unique           NaN         NaN             NaN  ...   \n",
       "top              NaN         NaN             NaN  ...   \n",
       "freq             NaN         NaN             NaN  ...   \n",
       "mean        4.203111         NaN             NaN  ...   \n",
       "std         0.177829         NaN             NaN  ...   \n",
       "min         3.650000         NaN             NaN  ...   \n",
       "25%         4.260000         NaN             NaN  ...   \n",
       "50%         4.270000         NaN             NaN  ...   \n",
       "75%         4.270000         NaN             NaN  ...   \n",
       "max         4.270000         NaN             NaN  ...   \n",
       "\n",
       "        Temperatura suolo 5 (°C)  Temperatura suolo 6 (°C)  \\\n",
       "count                        0.0                       0.0   \n",
       "unique                       NaN                       NaN   \n",
       "top                          NaN                       NaN   \n",
       "freq                         NaN                       NaN   \n",
       "mean                         NaN                       NaN   \n",
       "std                          NaN                       NaN   \n",
       "min                          NaN                       NaN   \n",
       "25%                          NaN                       NaN   \n",
       "50%                          NaN                       NaN   \n",
       "75%                          NaN                       NaN   \n",
       "max                          NaN                       NaN   \n",
       "\n",
       "        Temperatura suolo 7 (°C)  Temperatura suolo 8 (°C)  \\\n",
       "count                        0.0                       0.0   \n",
       "unique                       NaN                       NaN   \n",
       "top                          NaN                       NaN   \n",
       "freq                         NaN                       NaN   \n",
       "mean                         NaN                       NaN   \n",
       "std                          NaN                       NaN   \n",
       "min                          NaN                       NaN   \n",
       "25%                          NaN                       NaN   \n",
       "50%                          NaN                       NaN   \n",
       "75%                          NaN                       NaN   \n",
       "max                          NaN                       NaN   \n",
       "\n",
       "        Temperatura suolo 9 (°C)  vpd  Umidità fogliare 1 (min)  \\\n",
       "count                        0.0  0.0                       0.0   \n",
       "unique                       NaN  NaN                       NaN   \n",
       "top                          NaN  NaN                       NaN   \n",
       "freq                         NaN  NaN                       NaN   \n",
       "mean                         NaN  NaN                       NaN   \n",
       "std                          NaN  NaN                       NaN   \n",
       "min                          NaN  NaN                       NaN   \n",
       "25%                          NaN  NaN                       NaN   \n",
       "50%                          NaN  NaN                       NaN   \n",
       "75%                          NaN  NaN                       NaN   \n",
       "max                          NaN  NaN                       NaN   \n",
       "\n",
       "        Umidità fogliare 2 (min)        ID Sensore           Descrizione  \n",
       "count                     8734.0              8734                  8734  \n",
       "unique                       NaN                 1                     1  \n",
       "top                          NaN  DE6008D81F7F6E25  Paulownia - xNode #1  \n",
       "freq                         NaN              8734                  8734  \n",
       "mean                         0.0               NaN                   NaN  \n",
       "std                          0.0               NaN                   NaN  \n",
       "min                          0.0               NaN                   NaN  \n",
       "25%                          0.0               NaN                   NaN  \n",
       "50%                          0.0               NaN                   NaN  \n",
       "75%                          0.0               NaN                   NaN  \n",
       "max                          0.0               NaN                   NaN  \n",
       "\n",
       "[11 rows x 66 columns]"
      ]
     },
     "execution_count": 3,
     "metadata": {},
     "output_type": "execute_result"
    }
   ],
   "source": [
    "Forest = load_data()\n",
    "Forest.describe(include='all')"
   ]
  },
  {
   "cell_type": "code",
   "execution_count": 4,
   "id": "48974257",
   "metadata": {},
   "outputs": [
    {
     "name": "stdout",
     "output_type": "stream",
     "text": [
      "Index(['Orario', 'Umidità dell'aria (%)', 'Pressione (mPa)',\n",
      "       'Temperatura dell'aria (°C)', 'Punto di rugiada (°C)',\n",
      "       'Direzione del vento (°)', 'Velocità media del vento (km/h)',\n",
      "       'Batteria (V)', 'Fotocamera', 'Tipo di device', 'flags', 'hw',\n",
      "       'Latitudine', 'Livello liquido (mm)', 'Longitudine', 'Lux',\n",
      "       'Umidità fogliare (%)', 'Umidità suolo superficie (%)',\n",
      "       'Umidità suolo profondità (%)', 'Massima velocità del vento (km/h)',\n",
      "       'Temperatura liquido (°C)', 'pH', 'Foto', 'Pannello solare',\n",
      "       'Quantità di pioggia (mm)', 'Qualità Segnale (dBm)', 'rst', 'sd',\n",
      "       'Potenziale idrico 1 (Superficie)', 'Potenziale idrico 2',\n",
      "       'Umidità suolo 1 (Superficie) (%)', 'Umidità suolo 2 (%)',\n",
      "       'Umidità suolo 3 (%)', 'Umidità suolo 4 (%)', 'Umidità suolo 5 (%)',\n",
      "       'Umidità suolo 6 (%)', 'Umidità suolo 7 (%)', 'Umidità suolo 8 (%)',\n",
      "       'Umidità suolo 9 (%)', 'sms1', 'sms2', 'SNR',\n",
      "       'Radiazione solare (W/m2)', 'Salinità suolo 1 (Superficie) (°C)',\n",
      "       'Salinità suolo 2 (°C)', 'Salinità suolo 3 (°C)',\n",
      "       'Salinità suolo 4 (°C)', 'Salinità suolo 5 (°C)',\n",
      "       'Salinità suolo 6 (°C)', 'Salinità suolo 7 (°C)',\n",
      "       'Salinità suolo 8 (°C)', 'Salinità suolo 9 (°C)',\n",
      "       'Temperatura suolo 1 (Superficie) (°C)', 'Temperatura suolo 2 (°C)',\n",
      "       'Temperatura suolo 3 (°C)', 'Temperatura suolo 4 (°C)',\n",
      "       'Temperatura suolo 5 (°C)', 'Temperatura suolo 6 (°C)',\n",
      "       'Temperatura suolo 7 (°C)', 'Temperatura suolo 8 (°C)',\n",
      "       'Temperatura suolo 9 (°C)', 'vpd', 'Umidità fogliare 1 (min)',\n",
      "       'Umidità fogliare 2 (min)', 'ID Sensore', 'Descrizione'],\n",
      "      dtype='object')\n"
     ]
    }
   ],
   "source": [
    "print(Forest.columns)"
   ]
  },
  {
   "cell_type": "code",
   "execution_count": 5,
   "id": "8388b4ac",
   "metadata": {},
   "outputs": [],
   "source": [
    "# There are many columns where count is zero (basically many NaNs).\n",
    "# We drop these values\n",
    "\n",
    "columns_to_drop = []\n",
    "\n",
    "for i in Forest.columns:\n",
    "    if Forest[i].describe().loc['count'] == 0:\n",
    "        columns_to_drop.append(i)\n",
    "\n",
    "Forest = Forest.drop(columns=columns_to_drop)\n"
   ]
  },
  {
   "cell_type": "code",
   "execution_count": 6,
   "id": "df301e8d",
   "metadata": {},
   "outputs": [],
   "source": [
    "# Many columns are all zeros. To check that, we look for columns that have a mean value of zero and a maximum value of zero\n",
    "\n",
    "columns_to_drop = []\n",
    "\n",
    "for i in Forest.columns:\n",
    "    # Check if the column is numeric\n",
    "    if pd.api.types.is_numeric_dtype(Forest[i]):\n",
    "        desc = Forest[i].describe()\n",
    "        if desc.get('mean') == 0 and desc.get('max') == 0:\n",
    "            columns_to_drop.append(i)\n",
    "\n",
    "Forest = Forest.drop(columns=columns_to_drop)"
   ]
  },
  {
   "cell_type": "code",
   "execution_count": 7,
   "id": "e4abbbcd",
   "metadata": {},
   "outputs": [
    {
     "name": "stdout",
     "output_type": "stream",
     "text": [
      "[]\n",
      "[]\n",
      "[]\n",
      "[]\n"
     ]
    }
   ],
   "source": [
    "# We check that these four pairs of columns are exactly the same, if so, we can drop them\n",
    "\n",
    "\n",
    "diff = (Forest[\"Umidità suolo superficie (%)\"] - Forest[\"Umidità suolo 1 (Superficie) (%)\"]).to_numpy()\n",
    "\n",
    "print([x for x in diff if x != 0])\n",
    "\n",
    "diff_2 = (Forest[\"Umidità suolo profondità (%)\"] - Forest[\"Umidità suolo 2 (%)\"]).to_numpy()\n",
    "\n",
    "print([x for x in diff_2 if x != 0])\n",
    "\n",
    "diff_3 = (Forest[\"Temperatura suolo 1 (Superficie) (°C)\"] + 99).to_numpy()\n",
    "\n",
    "print([x for x in diff_3 if x != 0])\n",
    "\n",
    "diff_3 = (Forest[\"Temperatura suolo 2 (°C)\"] + 99).to_numpy()\n",
    "\n",
    "print([x for x in diff if x != 0])\n",
    "\n",
    "# Also, the type of sensor and plant are important information in general, and they should be converted to categorical attributes (matrix) to \n",
    "# be analyzed by some machine learning algorithm. However, in the present case they are all the same, and for simplicity we drop these terms \n",
    "# (this is a kind of dimensionality reduction)\n",
    "\n",
    "Forest = Forest.drop(columns = [\"Umidità suolo 1 (Superficie) (%)\",\"Umidità suolo 2 (%)\",\"Temperatura suolo 1 (Superficie) (°C)\",\"Temperatura suolo 2 (°C)\",\\\n",
    "                      \"ID Sensore\",\"Descrizione\"])"
   ]
  },
  {
   "cell_type": "code",
   "execution_count": 8,
   "id": "34e9bd55",
   "metadata": {},
   "outputs": [],
   "source": [
    "# We convert the time into a number\n",
    "\n",
    "Forest['Orario'] = Forest['Orario'].str.rstrip(':')\n",
    "\n",
    "Forest['Orario'] = pd.to_datetime(Forest['Orario'])\n"
   ]
  },
  {
   "cell_type": "code",
   "execution_count": 9,
   "id": "bfac366c",
   "metadata": {},
   "outputs": [],
   "source": [
    "# Convert datetime to timestamp\n",
    "Forest['time_numeric'] = Forest['Orario'].astype(int) / 10**9  #(I divide by 10**9 to get the time in seconds)\n",
    "\n",
    "# If you want to convert back, use pd.to_datetime(Forest['time_numeric'], unit='s')\n",
    "\n"
   ]
  },
  {
   "cell_type": "code",
   "execution_count": 10,
   "id": "87643018",
   "metadata": {},
   "outputs": [],
   "source": [
    "Forest = Forest.drop(columns = ['Orario'])"
   ]
  },
  {
   "cell_type": "code",
   "execution_count": 11,
   "id": "3e664b6e",
   "metadata": {},
   "outputs": [
    {
     "data": {
      "text/html": [
       "<div>\n",
       "<style scoped>\n",
       "    .dataframe tbody tr th:only-of-type {\n",
       "        vertical-align: middle;\n",
       "    }\n",
       "\n",
       "    .dataframe tbody tr th {\n",
       "        vertical-align: top;\n",
       "    }\n",
       "\n",
       "    .dataframe thead th {\n",
       "        text-align: right;\n",
       "    }\n",
       "</style>\n",
       "<table border=\"1\" class=\"dataframe\">\n",
       "  <thead>\n",
       "    <tr style=\"text-align: right;\">\n",
       "      <th></th>\n",
       "      <th>Batteria (V)</th>\n",
       "      <th>Umidità suolo superficie (%)</th>\n",
       "      <th>Umidità suolo profondità (%)</th>\n",
       "      <th>time_numeric</th>\n",
       "    </tr>\n",
       "  </thead>\n",
       "  <tbody>\n",
       "    <tr>\n",
       "      <th>0</th>\n",
       "      <td>4.27</td>\n",
       "      <td>14.3</td>\n",
       "      <td>16.20</td>\n",
       "      <td>1.690448e+09</td>\n",
       "    </tr>\n",
       "    <tr>\n",
       "      <th>1</th>\n",
       "      <td>4.27</td>\n",
       "      <td>14.4</td>\n",
       "      <td>16.20</td>\n",
       "      <td>1.690445e+09</td>\n",
       "    </tr>\n",
       "    <tr>\n",
       "      <th>2</th>\n",
       "      <td>4.27</td>\n",
       "      <td>14.4</td>\n",
       "      <td>16.25</td>\n",
       "      <td>1.690441e+09</td>\n",
       "    </tr>\n",
       "    <tr>\n",
       "      <th>3</th>\n",
       "      <td>4.27</td>\n",
       "      <td>14.5</td>\n",
       "      <td>16.20</td>\n",
       "      <td>1.690438e+09</td>\n",
       "    </tr>\n",
       "    <tr>\n",
       "      <th>4</th>\n",
       "      <td>4.26</td>\n",
       "      <td>14.5</td>\n",
       "      <td>16.25</td>\n",
       "      <td>1.690434e+09</td>\n",
       "    </tr>\n",
       "  </tbody>\n",
       "</table>\n",
       "</div>"
      ],
      "text/plain": [
       "   Batteria (V)  Umidità suolo superficie (%)  Umidità suolo profondità (%)  \\\n",
       "0          4.27                          14.3                         16.20   \n",
       "1          4.27                          14.4                         16.20   \n",
       "2          4.27                          14.4                         16.25   \n",
       "3          4.27                          14.5                         16.20   \n",
       "4          4.26                          14.5                         16.25   \n",
       "\n",
       "   time_numeric  \n",
       "0  1.690448e+09  \n",
       "1  1.690445e+09  \n",
       "2  1.690441e+09  \n",
       "3  1.690438e+09  \n",
       "4  1.690434e+09  "
      ]
     },
     "execution_count": 11,
     "metadata": {},
     "output_type": "execute_result"
    }
   ],
   "source": [
    "Forest.head()"
   ]
  },
  {
   "cell_type": "markdown",
   "id": "ce3ab5be-e4a4-4955-9187-8620d45c5caf",
   "metadata": {
    "tags": []
   },
   "source": [
    "# Visualize the data"
   ]
  },
  {
   "cell_type": "code",
   "execution_count": 17,
   "id": "de69788c-7e91-4076-999e-fb7f68dd3111",
   "metadata": {},
   "outputs": [
    {
     "data": {
      "image/png": "[encoded data removed]",
      "text/plain": [
       "<Figure size 864x576 with 16 Axes>"
      ]
     },
     "metadata": {
      "needs_background": "light"
     },
     "output_type": "display_data"
    }
   ],
   "source": [
    "from pandas.plotting import scatter_matrix\n",
    "\n",
    "attributes = [\"Batteria (V)\", \"Umidità suolo superficie (%)\", \"Umidità suolo profondità (%)\", \"time_numeric\"]\n",
    "\n",
    "scatter_matrix(Forest[attributes], figsize=(12,8))\n",
    "plt.show()"
   ]
  },
  {
   "cell_type": "markdown",
   "id": "330dd75e-8349-4222-adbb-3eb269e2feae",
   "metadata": {},
   "source": [
    "There are some clear correlations that we need to establish. According to intuition, the surface humidity and deep humidity are correlated \n",
    "(basically are linearly dependent), and both change over time. Other correlations, if exists, are not clear from simple visualization"
   ]
  },
  {
   "cell_type": "markdown",
   "id": "d2587731-7275-45c7-a4e5-05efc1d24b2f",
   "metadata": {},
   "source": [
    "# Select and train a model"
   ]
  },
  {
   "cell_type": "markdown",
   "id": "2de46549-276c-4109-b50f-ce257c5de53b",
   "metadata": {
    "tags": []
   },
   "source": [
    "## We create a test and training test"
   ]
  },
  {
   "cell_type": "markdown",
   "id": "042d9ec7-cb5c-413b-8607-43afbffe36b7",
   "metadata": {},
   "source": [
    "We must be careful on how we create the test set, because we don't want to lose the stratification of the data. We must create some strata, i.e., homogeneous subgroups. Thus, we choose to create categories for Umidità suolo superficie"
   ]
  },
  {
   "cell_type": "code",
   "execution_count": 18,
   "id": "e6c459c9-e95b-4378-b4ba-a7cfa09d03bc",
   "metadata": {},
   "outputs": [
    {
     "name": "stdout",
     "output_type": "stream",
     "text": [
      "38.9 14.3\n"
     ]
    }
   ],
   "source": [
    "hum_arr = Forest[\"Umidità suolo superficie (%)\"].to_numpy()\n",
    "\n",
    "print(hum_arr.max(),hum_arr.min())"
   ]
  },
  {
   "cell_type": "code",
   "execution_count": 19,
   "id": "21290a22-4edc-4049-95d1-8f5467ee4b3d",
   "metadata": {},
   "outputs": [
    {
     "data": {
      "text/plain": [
       "<AxesSubplot:>"
      ]
     },
     "execution_count": 19,
     "metadata": {},
     "output_type": "execute_result"
    },
    {
     "data": {
      "image/png": "[encoded data removed]",
      "text/plain": [
       "<Figure size 432x288 with 1 Axes>"
      ]
     },
     "metadata": {
      "needs_background": "light"
     },
     "output_type": "display_data"
    }
   ],
   "source": [
    "Forest[\"Umidità suolo superficie (%)\"].hist()"
   ]
  },
  {
   "cell_type": "code",
   "execution_count": 20,
   "id": "3789d8bd-cca6-474f-b664-2ba523900576",
   "metadata": {},
   "outputs": [
    {
     "data": {
      "image/png": "[encoded data removed]",
      "text/plain": [
       "<Figure size 432x288 with 1 Axes>"
      ]
     },
     "metadata": {
      "needs_background": "light"
     },
     "output_type": "display_data"
    }
   ],
   "source": [
    "\n",
    "Forest[\"Humidity_cat\"]=pd.cut(Forest[\"Umidità suolo superficie (%)\"],\n",
    "                              bins=[-np.inf, 20, 25, 30 , 35 , np.inf],\n",
    "                             labels=[1,2,3,4,5])\n",
    "Forest[\"Humidity_cat\"].hist()\n",
    "\n",
    "\n",
    "\n",
    "Split = StratifiedShuffleSplit(n_splits=1, test_size=0.2, random_state=42)\n",
    "for train_index, test_index in Split.split(Forest, Forest[\"Humidity_cat\"]): #split generates indices to split data into training and test set\n",
    "    strat_train_set = Forest.loc[train_index]\n",
    "    strat_test_set = Forest.loc[test_index]"
   ]
  },
  {
   "cell_type": "code",
   "execution_count": 21,
   "id": "c6b54ec4-da5c-4792-853b-a774e28b3aab",
   "metadata": {},
   "outputs": [
    {
     "data": {
      "image/png": "[encoded data removed]",
      "text/plain": [
       "<Figure size 360x216 with 1 Axes>"
      ]
     },
     "metadata": {
      "needs_background": "light"
     },
     "output_type": "display_data"
    },
    {
     "data": {
      "image/png": "[encoded data removed]",
      "text/plain": [
       "<Figure size 360x216 with 1 Axes>"
      ]
     },
     "metadata": {
      "needs_background": "light"
     },
     "output_type": "display_data"
    },
    {
     "data": {
      "image/png": "[encoded data removed]",
      "text/plain": [
       "<Figure size 360x216 with 1 Axes>"
      ]
     },
     "metadata": {
      "needs_background": "light"
     },
     "output_type": "display_data"
    }
   ],
   "source": [
    "plt.show(strat_test_set[\"Umidità suolo superficie (%)\"].hist(bins=50, figsize=(5,3)))\n",
    "plt.show(Forest[\"Umidità suolo superficie (%)\"].hist(bins=50, figsize=(5,3)))\n",
    "plt.show(strat_train_set[\"Umidità suolo superficie (%)\"].hist(bins=50, figsize=(5,3)))"
   ]
  },
  {
   "cell_type": "markdown",
   "id": "05316364-9bf9-4c93-9521-a9ca3c75cc1e",
   "metadata": {},
   "source": [
    "## Now we can do the training "
   ]
  },
  {
   "cell_type": "code",
   "execution_count": 22,
   "id": "d2fe9865-5513-4e61-b662-740770794a02",
   "metadata": {},
   "outputs": [
    {
     "data": {
      "text/html": [
       "<div>\n",
       "<style scoped>\n",
       "    .dataframe tbody tr th:only-of-type {\n",
       "        vertical-align: middle;\n",
       "    }\n",
       "\n",
       "    .dataframe tbody tr th {\n",
       "        vertical-align: top;\n",
       "    }\n",
       "\n",
       "    .dataframe thead th {\n",
       "        text-align: right;\n",
       "    }\n",
       "</style>\n",
       "<table border=\"1\" class=\"dataframe\">\n",
       "  <thead>\n",
       "    <tr style=\"text-align: right;\">\n",
       "      <th></th>\n",
       "      <th>Batteria (V)</th>\n",
       "      <th>Umidità suolo superficie (%)</th>\n",
       "      <th>Umidità suolo profondità (%)</th>\n",
       "      <th>time_numeric</th>\n",
       "      <th>Humidity_cat</th>\n",
       "    </tr>\n",
       "  </thead>\n",
       "  <tbody>\n",
       "    <tr>\n",
       "      <th>6376</th>\n",
       "      <td>4.27</td>\n",
       "      <td>17.90</td>\n",
       "      <td>19.15</td>\n",
       "      <td>1.667416e+09</td>\n",
       "      <td>1</td>\n",
       "    </tr>\n",
       "    <tr>\n",
       "      <th>7336</th>\n",
       "      <td>4.27</td>\n",
       "      <td>20.40</td>\n",
       "      <td>23.30</td>\n",
       "      <td>1.663960e+09</td>\n",
       "      <td>2</td>\n",
       "    </tr>\n",
       "    <tr>\n",
       "      <th>3401</th>\n",
       "      <td>4.27</td>\n",
       "      <td>24.30</td>\n",
       "      <td>28.70</td>\n",
       "      <td>1.678162e+09</td>\n",
       "      <td>2</td>\n",
       "    </tr>\n",
       "    <tr>\n",
       "      <th>5301</th>\n",
       "      <td>4.26</td>\n",
       "      <td>27.05</td>\n",
       "      <td>32.05</td>\n",
       "      <td>1.671286e+09</td>\n",
       "      <td>3</td>\n",
       "    </tr>\n",
       "    <tr>\n",
       "      <th>776</th>\n",
       "      <td>4.27</td>\n",
       "      <td>21.70</td>\n",
       "      <td>26.20</td>\n",
       "      <td>1.687651e+09</td>\n",
       "      <td>2</td>\n",
       "    </tr>\n",
       "    <tr>\n",
       "      <th>...</th>\n",
       "      <td>...</td>\n",
       "      <td>...</td>\n",
       "      <td>...</td>\n",
       "      <td>...</td>\n",
       "      <td>...</td>\n",
       "    </tr>\n",
       "    <tr>\n",
       "      <th>6687</th>\n",
       "      <td>4.27</td>\n",
       "      <td>19.50</td>\n",
       "      <td>22.55</td>\n",
       "      <td>1.666296e+09</td>\n",
       "      <td>1</td>\n",
       "    </tr>\n",
       "    <tr>\n",
       "      <th>204</th>\n",
       "      <td>4.27</td>\n",
       "      <td>15.70</td>\n",
       "      <td>16.95</td>\n",
       "      <td>1.689710e+09</td>\n",
       "      <td>1</td>\n",
       "    </tr>\n",
       "    <tr>\n",
       "      <th>3160</th>\n",
       "      <td>4.26</td>\n",
       "      <td>23.85</td>\n",
       "      <td>29.00</td>\n",
       "      <td>1.679029e+09</td>\n",
       "      <td>2</td>\n",
       "    </tr>\n",
       "    <tr>\n",
       "      <th>1544</th>\n",
       "      <td>4.27</td>\n",
       "      <td>24.60</td>\n",
       "      <td>28.30</td>\n",
       "      <td>1.684886e+09</td>\n",
       "      <td>2</td>\n",
       "    </tr>\n",
       "    <tr>\n",
       "      <th>4793</th>\n",
       "      <td>4.27</td>\n",
       "      <td>22.50</td>\n",
       "      <td>27.00</td>\n",
       "      <td>1.673114e+09</td>\n",
       "      <td>2</td>\n",
       "    </tr>\n",
       "  </tbody>\n",
       "</table>\n",
       "<p>6987 rows × 5 columns</p>\n",
       "</div>"
      ],
      "text/plain": [
       "      Batteria (V)  Umidità suolo superficie (%)  \\\n",
       "6376          4.27                         17.90   \n",
       "7336          4.27                         20.40   \n",
       "3401          4.27                         24.30   \n",
       "5301          4.26                         27.05   \n",
       "776           4.27                         21.70   \n",
       "...            ...                           ...   \n",
       "6687          4.27                         19.50   \n",
       "204           4.27                         15.70   \n",
       "3160          4.26                         23.85   \n",
       "1544          4.27                         24.60   \n",
       "4793          4.27                         22.50   \n",
       "\n",
       "      Umidità suolo profondità (%)  time_numeric Humidity_cat  \n",
       "6376                         19.15  1.667416e+09            1  \n",
       "7336                         23.30  1.663960e+09            2  \n",
       "3401                         28.70  1.678162e+09            2  \n",
       "5301                         32.05  1.671286e+09            3  \n",
       "776                          26.20  1.687651e+09            2  \n",
       "...                            ...           ...          ...  \n",
       "6687                         22.55  1.666296e+09            1  \n",
       "204                          16.95  1.689710e+09            1  \n",
       "3160                         29.00  1.679029e+09            2  \n",
       "1544                         28.30  1.684886e+09            2  \n",
       "4793                         27.00  1.673114e+09            2  \n",
       "\n",
       "[6987 rows x 5 columns]"
      ]
     },
     "execution_count": 22,
     "metadata": {},
     "output_type": "execute_result"
    }
   ],
   "source": [
    "strat_train_set"
   ]
  },
  {
   "cell_type": "markdown",
   "id": "f7358f47-9c2d-4eef-86bd-7021ef81feb0",
   "metadata": {},
   "source": [
    "We want to extract the following information: I give a time, and the code should provide me with battery, surface humidity, and deep humidity"
   ]
  },
  {
   "cell_type": "code",
   "execution_count": 28,
   "id": "4cf15779-e041-4d5e-bd19-5350a38f62d5",
   "metadata": {},
   "outputs": [],
   "source": [
    "prep_data = strat_train_set.drop(['Umidità suolo profondità (%)', 'Umidità suolo superficie (%)', 'Batteria (V)'], axis=1)\n",
    "\n",
    "label_data = strat_train_set[['Umidità suolo profondità (%)', 'Umidità suolo superficie (%)', 'Batteria (V)']].copy()\n",
    "\n",
    "prep_test_data = strat_test_set.drop(['Umidità suolo profondità (%)', 'Umidità suolo superficie (%)', 'Batteria (V)'], axis=1)\n",
    "\n",
    "label_test_data = strat_test_set[['Umidità suolo profondità (%)', 'Umidità suolo superficie (%)', 'Batteria (V)']].copy()\n"
   ]
  },
  {
   "cell_type": "code",
   "execution_count": 25,
   "id": "4bc98650-7e26-476a-94a8-a05bccdf0400",
   "metadata": {},
   "outputs": [
    {
     "data": {
      "text/html": [
       "<style>#sk-container-id-1 {color: black;background-color: white;}#sk-container-id-1 pre{padding: 0;}#sk-container-id-1 div.sk-toggleable {background-color: white;}#sk-container-id-1 label.sk-toggleable__label {cursor: pointer;display: block;width: 100%;margin-bottom: 0;padding: 0.3em;box-sizing: border-box;text-align: center;}#sk-container-id-1 label.sk-toggleable__label-arrow:before {content: \"▸\";float: left;margin-right: 0.25em;color: #696969;}#sk-container-id-1 label.sk-toggleable__label-arrow:hover:before {color: black;}#sk-container-id-1 div.sk-estimator:hover label.sk-toggleable__label-arrow:before {color: black;}#sk-container-id-1 div.sk-toggleable__content {max-height: 0;max-width: 0;overflow: hidden;text-align: left;background-color: #f0f8ff;}#sk-container-id-1 div.sk-toggleable__content pre {margin: 0.2em;color: black;border-radius: 0.25em;background-color: #f0f8ff;}#sk-container-id-1 input.sk-toggleable__control:checked~div.sk-toggleable__content {max-height: 200px;max-width: 100%;overflow: auto;}#sk-container-id-1 input.sk-toggleable__control:checked~label.sk-toggleable__label-arrow:before {content: \"▾\";}#sk-container-id-1 div.sk-estimator input.sk-toggleable__control:checked~label.sk-toggleable__label {background-color: #d4ebff;}#sk-container-id-1 div.sk-label input.sk-toggleable__control:checked~label.sk-toggleable__label {background-color: #d4ebff;}#sk-container-id-1 input.sk-hidden--visually {border: 0;clip: rect(1px 1px 1px 1px);clip: rect(1px, 1px, 1px, 1px);height: 1px;margin: -1px;overflow: hidden;padding: 0;position: absolute;width: 1px;}#sk-container-id-1 div.sk-estimator {font-family: monospace;background-color: #f0f8ff;border: 1px dotted black;border-radius: 0.25em;box-sizing: border-box;margin-bottom: 0.5em;}#sk-container-id-1 div.sk-estimator:hover {background-color: #d4ebff;}#sk-container-id-1 div.sk-parallel-item::after {content: \"\";width: 100%;border-bottom: 1px solid gray;flex-grow: 1;}#sk-container-id-1 div.sk-label:hover label.sk-toggleable__label {background-color: #d4ebff;}#sk-container-id-1 div.sk-serial::before {content: \"\";position: absolute;border-left: 1px solid gray;box-sizing: border-box;top: 0;bottom: 0;left: 50%;z-index: 0;}#sk-container-id-1 div.sk-serial {display: flex;flex-direction: column;align-items: center;background-color: white;padding-right: 0.2em;padding-left: 0.2em;position: relative;}#sk-container-id-1 div.sk-item {position: relative;z-index: 1;}#sk-container-id-1 div.sk-parallel {display: flex;align-items: stretch;justify-content: center;background-color: white;position: relative;}#sk-container-id-1 div.sk-item::before, #sk-container-id-1 div.sk-parallel-item::before {content: \"\";position: absolute;border-left: 1px solid gray;box-sizing: border-box;top: 0;bottom: 0;left: 50%;z-index: -1;}#sk-container-id-1 div.sk-parallel-item {display: flex;flex-direction: column;z-index: 1;position: relative;background-color: white;}#sk-container-id-1 div.sk-parallel-item:first-child::after {align-self: flex-end;width: 50%;}#sk-container-id-1 div.sk-parallel-item:last-child::after {align-self: flex-start;width: 50%;}#sk-container-id-1 div.sk-parallel-item:only-child::after {width: 0;}#sk-container-id-1 div.sk-dashed-wrapped {border: 1px dashed gray;margin: 0 0.4em 0.5em 0.4em;box-sizing: border-box;padding-bottom: 0.4em;background-color: white;}#sk-container-id-1 div.sk-label label {font-family: monospace;font-weight: bold;display: inline-block;line-height: 1.2em;}#sk-container-id-1 div.sk-label-container {text-align: center;}#sk-container-id-1 div.sk-container {/* jupyter's `normalize.less` sets `[hidden] { display: none; }` but bootstrap.min.css set `[hidden] { display: none !important; }` so we also need the `!important` here to be able to override the default hidden behavior on the sphinx rendered scikit-learn.org. See: https://github.com/scikit-learn/scikit-learn/issues/21755 */display: inline-block !important;position: relative;}#sk-container-id-1 div.sk-text-repr-fallback {display: none;}</style><div id=\"sk-container-id-1\" class=\"sk-top-container\"><div class=\"sk-text-repr-fallback\"><pre>RandomForestRegressor()</pre><b>In a Jupyter environment, please rerun this cell to show the HTML representation or trust the notebook. <br />On GitHub, the HTML representation is unable to render, please try loading this page with nbviewer.org.</b></div><div class=\"sk-container\" hidden><div class=\"sk-item\"><div class=\"sk-estimator sk-toggleable\"><input class=\"sk-toggleable__control sk-hidden--visually\" id=\"sk-estimator-id-1\" type=\"checkbox\" checked><label for=\"sk-estimator-id-1\" class=\"sk-toggleable__label sk-toggleable__label-arrow\">RandomForestRegressor</label><div class=\"sk-toggleable__content\"><pre>RandomForestRegressor()</pre></div></div></div></div></div>"
      ],
      "text/plain": [
       "RandomForestRegressor()"
      ]
     },
     "execution_count": 25,
     "metadata": {},
     "output_type": "execute_result"
    }
   ],
   "source": [
    "# We try an ensamble if decision trees\n",
    "\n",
    "from sklearn.ensemble import RandomForestRegressor\n",
    "\n",
    "forest_reg = RandomForestRegressor()\n",
    "forest_reg.fit(prep_data, label_data)"
   ]
  },
  {
   "cell_type": "code",
   "execution_count": 30,
   "id": "5f3ee0cc-64e5-43fc-94da-85564822d6b9",
   "metadata": {},
   "outputs": [],
   "source": [
    "some_data = prep_test_data.iloc[:5]\n",
    "some_labels = label_test_data.iloc[:5]"
   ]
  },
  {
   "cell_type": "code",
   "execution_count": 34,
   "id": "a2dcbe2f-9da9-4b46-a774-a8e5abfda3df",
   "metadata": {},
   "outputs": [
    {
     "name": "stdout",
     "output_type": "stream",
     "text": [
      "Predictions: [[29.1695 24.904   4.27  ]\n",
      " [25.793  21.452   4.27  ]\n",
      " [32.183  27.433   4.2625]\n",
      " [21.282  19.1     4.2676]\n",
      " [33.789  28.564   4.27  ]]\n",
      "labels: ['Umidità suolo profondità (%)', 'Umidità suolo superficie (%)', 'Batteria (V)']\n",
      "      Umidità suolo profondità (%)  Umidità suolo superficie (%)  Batteria (V)\n",
      "939                           29.1                         24.95          4.27\n",
      "3644                          25.8                         21.50          4.27\n",
      "6053                          34.9                         28.15          4.26\n",
      "8486                          21.3                         19.10          4.27\n",
      "1012                          33.9                         28.65          4.27\n"
     ]
    }
   ],
   "source": [
    "# Let's see if it worked!\n",
    "\n",
    "print(\"Predictions:\", forest_reg.predict(some_data))\n",
    "print(\"labels:\", list(some_labels))\n",
    "print(some_labels)"
   ]
  },
  {
   "cell_type": "code",
   "execution_count": 37,
   "id": "d8c6046c-e982-4de8-a2cc-8733fca6830c",
   "metadata": {},
   "outputs": [
    {
     "data": {
      "text/plain": [
       "0.09101914914559114"
      ]
     },
     "execution_count": 37,
     "metadata": {},
     "output_type": "execute_result"
    }
   ],
   "source": [
    "from sklearn.metrics import mean_squared_error\n",
    "\n",
    "forest_predictions = forest_reg.predict(prep_data)\n",
    "\n",
    "lin_mse = mean_squared_error(label_data, forest_predictions)\n",
    "lin_rmse = np.sqrt(lin_mse)\n",
    "lin_rmse"
   ]
  },
  {
   "cell_type": "code",
   "execution_count": 38,
   "id": "26f02993-c101-4c1e-8647-a7340718de97",
   "metadata": {},
   "outputs": [
    {
     "data": {
      "text/plain": [
       "0.25205995874951675"
      ]
     },
     "execution_count": 38,
     "metadata": {},
     "output_type": "execute_result"
    }
   ],
   "source": [
    "forest_test_predictions = forest_reg.predict(prep_test_data)\n",
    "\n",
    "lin_mse_2 = mean_squared_error(label_test_data, forest_test_predictions)\n",
    "lin_rmse_2 = np.sqrt(lin_mse_2)\n",
    "lin_rmse_2"
   ]
  },
  {
   "cell_type": "code",
   "execution_count": null,
   "id": "80eb9a51-8c92-4f86-9cf7-4852ddd9f749",
   "metadata": {},
   "outputs": [],
   "source": []
  }
 ],
 "metadata": {
  "kernelspec": {
   "display_name": "Python 3 (ipykernel)",
   "language": "python",
   "name": "python3"
  },
  "language_info": {
   "codemirror_mode": {
    "name": "ipython",
    "version": 3
   },
   "file_extension": ".py",
   "mimetype": "text/x-python",
   "name": "python",
   "nbconvert_exporter": "python",
   "pygments_lexer": "ipython3",
   "version": "3.11.1"
  }
 },
 "nbformat": 4,
 "nbformat_minor": 5
}
